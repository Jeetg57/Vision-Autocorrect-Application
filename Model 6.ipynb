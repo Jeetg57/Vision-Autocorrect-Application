{
  "cells": [
    {
      "cell_type": "code",
      "source": [
        "#Model 6\r\n",
        "\r\n",
        "import tensorflow \r\n",
        "\r\n",
        "#import keras\r\n",
        "from tensorflow import keras\r\n",
        "import keras.utils\r\n",
        "import sys, os  \r\n",
        "import pandas as pd  \r\n",
        "import numpy as np  \r\n",
        "import matplotlib.pyplot as plt\r\n",
        "import seaborn as sns\r\n",
        "\r\n",
        "\r\n",
        "from keras.callbacks import ModelCheckpoint\r\n",
        "from keras.models import Sequential  \r\n",
        "from keras.layers import Dense, Dropout, Activation, Flatten  \r\n",
        "from keras.layers import Conv2D, MaxPooling2D, BatchNormalization,AveragePooling2D  \r\n",
        "from keras.losses import categorical_crossentropy  \r\n",
        "from tensorflow.keras.optimizers import Adam  \r\n",
        "from keras.regularizers import l2  \r\n",
        "from keras.utils import np_utils  \r\n",
        "\r\n",
        "from keras.callbacks import ReduceLROnPlateau\r\n",
        "from keras.preprocessing.image import ImageDataGenerator\r\n",
        "\r\n",
        "keras.backend.clear_session()\r\n",
        "df=pd.read_csv('img_pixels.csv')  \r\n"
      ],
      "outputs": [],
      "execution_count": 1,
      "metadata": {
        "gather": {
          "logged": 1645030894251
        }
      }
    },
    {
      "cell_type": "code",
      "source": [
        "import wandb\r\n",
        "wandb.init(project=\"vision autocorrect\", entity=\"jeetg57\", name=\"Model 6R12\")"
      ],
      "outputs": [
        {
          "output_type": "stream",
          "name": "stderr",
          "text": "Failed to detect the name of this notebook, you can set it manually with the WANDB_NOTEBOOK_NAME environment variable to enable code saving.\n\u001b[34m\u001b[1mwandb\u001b[0m: Currently logged in as: \u001b[33mjeetg57\u001b[0m (use `wandb login --relogin` to force relogin)\n"
        },
        {
          "output_type": "display_data",
          "data": {
            "text/plain": "<IPython.core.display.HTML object>",
            "text/html": "\n                    Syncing run <strong><a href=\"https://wandb.ai/jeetg57/vision%20autocorrect/runs/36rzm1hx\" target=\"_blank\">Model 6R12</a></strong> to <a href=\"https://wandb.ai/jeetg57/vision%20autocorrect\" target=\"_blank\">Weights & Biases</a> (<a href=\"https://docs.wandb.com/integrations/jupyter.html\" target=\"_blank\">docs</a>).<br/>\n\n                "
          },
          "metadata": {}
        },
        {
          "output_type": "execute_result",
          "execution_count": 2,
          "data": {
            "text/html": "<button onClick=\"this.nextSibling.style.display='block';this.style.display='none';\">Display W&B run</button><iframe src=\"https://wandb.ai/jeetg57/vision%20autocorrect/runs/36rzm1hx?jupyter=true\" style=\"border:none;width:100%;height:420px;display:none;\"></iframe>",
            "text/plain": "<wandb.sdk.wandb_run.Run at 0x7fc60d3b3c10>"
          },
          "metadata": {}
        }
      ],
      "execution_count": 2,
      "metadata": {
        "jupyter": {
          "source_hidden": false,
          "outputs_hidden": false
        },
        "nteract": {
          "transient": {
            "deleting": false
          }
        },
        "gather": {
          "logged": 1645030899627
        }
      }
    },
    {
      "cell_type": "code",
      "source": [
        "sns.countplot(df.emotion)\r\n",
        "plt.show()\r\n",
        "\r\n",
        "X_train,train_y,X_test,test_y=[],[],[],[]  \r\n",
        "  \r\n",
        "for index, row in df.iterrows():  \r\n",
        "    val=row['pixels'].split(\" \")  \r\n",
        "    try:  \r\n",
        "        if 'Training' in row['Usage']:  \r\n",
        "           X_train.append(np.array(val,'float32'))  \r\n",
        "           train_y.append(row['emotion'])  \r\n",
        "        elif 'PublicTest' in row['Usage']:  \r\n",
        "           X_test.append(np.array(val,'float32'))  \r\n",
        "           test_y.append(row['emotion'])  \r\n",
        "    except:  \r\n",
        "        print(f\"error occured at index :{index} and row:{row}\")  "
      ],
      "outputs": [
        {
          "output_type": "stream",
          "name": "stderr",
          "text": "/anaconda/envs/azureml_py38_PT_TF/lib/python3.8/site-packages/seaborn/_decorators.py:36: FutureWarning: Pass the following variable as a keyword arg: x. From version 0.12, the only valid positional argument will be `data`, and passing other arguments without an explicit keyword will result in an error or misinterpretation.\n  warnings.warn(\n"
        },
        {
          "output_type": "display_data",
          "data": {
            "text/plain": "<Figure size 432x288 with 1 Axes>",
            "image/png": "[encoded data removed]"
          },
          "metadata": {
            "needs_background": "light"
          }
        }
      ],
      "execution_count": 3,
      "metadata": {
        "jupyter": {
          "source_hidden": false,
          "outputs_hidden": false
        },
        "nteract": {
          "transient": {
            "deleting": false
          }
        },
        "gather": {
          "logged": 1645030915349
        }
      }
    },
    {
      "cell_type": "code",
      "source": [
        "num_labels = 5 #changed to 0-4=5  \r\n",
        "batch_size = 32\r\n",
        "epochs = 50\r\n",
        "width, height = 48, 48  \r\n",
        "  \r\n",
        "  \r\n",
        "X_train = np.array(X_train,'float32')  \r\n",
        "train_y = np.array(train_y,'float32')  \r\n",
        "X_test = np.array(X_test,'float32')  \r\n",
        "test_y = np.array(test_y,'float32')  \r\n",
        "  \r\n",
        "train_y=np_utils.to_categorical(train_y, num_classes=num_labels)  \r\n",
        "test_y=np_utils.to_categorical(test_y, num_classes=num_labels)  \r\n"
      ],
      "outputs": [],
      "execution_count": 4,
      "metadata": {
        "jupyter": {
          "source_hidden": false,
          "outputs_hidden": false
        },
        "nteract": {
          "transient": {
            "deleting": false
          }
        },
        "gather": {
          "logged": 1645030915477
        }
      }
    },
    {
      "cell_type": "code",
      "source": [
        "#cannot produce  \r\n",
        "#normalizing data between 0 and 1  \r\n",
        "X_train -= np.mean(X_train, axis=0)  \r\n",
        "X_train /= np.std(X_train, axis=0)  \r\n",
        "  \r\n",
        "X_test -= np.mean(X_test, axis=0)  \r\n",
        "X_test /= np.std(X_test, axis=0)  \r\n",
        "  \r\n",
        "X_train = X_train.reshape(X_train.shape[0], 48, 48, 1)  \r\n",
        "  \r\n",
        "X_test = X_test.reshape(X_test.shape[0], 48, 48, 1)  \r\n",
        "  \r\n",
        "\r\n",
        "##designing the cnn  \r\n",
        "#1st convolution layer  \r\n",
        "#model = keras.models.Sequential() \r\n"
      ],
      "outputs": [],
      "execution_count": 5,
      "metadata": {
        "jupyter": {
          "source_hidden": false,
          "outputs_hidden": false
        },
        "nteract": {
          "transient": {
            "deleting": false
          }
        },
        "gather": {
          "logged": 1645030915642
        }
      }
    },
    {
      "cell_type": "code",
      "source": [
        "from keras import layers\r\n",
        "\r\n",
        "modelN = keras.models.Sequential()\r\n",
        "modelN.add(layers.Conv2D(32, (3, 3), padding='same', activation='relu',\r\n",
        "                        input_shape=(48, 48, 1)))\r\n",
        "modelN.add(layers.Conv2D(32, (3, 3), padding='same', activation='relu'))\r\n",
        "modelN.add(layers.Conv2D(32, (3, 3), padding='same', activation='relu'))\r\n",
        "modelN.add(layers.MaxPooling2D(pool_size=(2, 2)))\r\n",
        "\r\n",
        "modelN.add(layers.Conv2D(64, (3, 3), padding='same', activation='relu'))\r\n",
        "modelN.add(layers.Conv2D(64, (3, 3), padding='same', activation='relu'))\r\n",
        "modelN.add(layers.Conv2D(64, (3, 3), padding='same', activation='relu'))\r\n",
        "modelN.add(layers.MaxPooling2D(pool_size=(2, 2)))\r\n",
        "\r\n",
        "modelN.add(layers.Conv2D(128, (3, 3), padding='same', activation='relu'))\r\n",
        "modelN.add(layers.Conv2D(128, (3, 3), padding='same', activation='relu'))\r\n",
        "modelN.add(layers.Conv2D(128, (3, 3), padding='same', activation='relu'))\r\n",
        "modelN.add(layers.MaxPooling2D(pool_size=(2, 2)))\r\n",
        "\r\n",
        "modelN.add(layers.Flatten())  # this converts our 3D feature maps to 1D feature vectors\r\n",
        "modelN.add(layers.Dense(64, activation='relu'))\r\n",
        "modelN.add(layers.Dense(64, activation='relu'))\r\n",
        "modelN.add(layers.Dense(5, activation='softmax'))\r\n",
        "\r\n",
        "model=modelN\r\n",
        "# optimizer:\r\n",
        "\r\n",
        "opt=Adam(learning_rate=0.0005)\r\n",
        "model.compile(optimizer=opt,loss='categorical_crossentropy',metrics=['accuracy'])\r\n",
        "\r\n",
        "\r\n",
        "classes=[0,1,2,3,4]\r\n",
        "classes_labels=[\"None\",\"Fatigue\",\"Glare\",\"Normal\",\"squint\"]\r\n",
        "\r\n",
        "model.summary()\r\n",
        "\r\n",
        "train_datagen = ImageDataGenerator(\r\n",
        "    rotation_range=15,\r\n",
        "    width_shift_range=0.15,\r\n",
        "    height_shift_range=0.15,\r\n",
        "    shear_range=0.15,\r\n",
        "    zoom_range=0.15,\r\n",
        "    horizontal_flip=True,\r\n",
        ")\r\n",
        "\r\n",
        "train_datagen.fit(X_train)\r\n",
        "\r\n"
      ],
      "outputs": [],
      "execution_count": 6,
      "metadata": {
        "jupyter": {
          "source_hidden": false,
          "outputs_hidden": false
        },
        "nteract": {
          "transient": {
            "deleting": false
          }
        },
        "gather": {
          "logged": 1644000272074
        }
      }
    },
    {
      "cell_type": "code",
      "source": [
        "revname = \"6R12\"\r\n",
        "modelname = \"./NEW MODELS/Model 6/\" + revname +  \"/\"\r\n",
        "#tbCallBack = keras.callbacks.TensorBoard(log_dir=\"C:/Users/Prof. Leah Mutanu/source/repos/pylesson35/pylesson35\", histogram_freq=2, write_graph=True, write_images=True)\r\n",
        "from keras.callbacks import EarlyStopping\r\n",
        "es = EarlyStopping(monitor = 'val_loss', mode = 'min', patience = 5, restore_best_weights = True )\r\n",
        "\r\n",
        "lr_scheduler = ReduceLROnPlateau(\r\n",
        "\t    monitor='val_accuracy',\r\n",
        "\t    factor=0.5,\r\n",
        "\t    patience=5,\r\n",
        "\t    min_lr=1e-7,\r\n",
        "\t    verbose=1,\r\n",
        "\t)\r\n",
        "\r\n",
        "bestmodelname = modelname + \"best_model.h5\"\r\n",
        "mc = ModelCheckpoint(bestmodelname, monitor='val_loss', mode='min', verbose=1, save_best_only=True)\r\n",
        "\r\n",
        "callbacks=[es, lr_scheduler, mc]"
      ],
      "outputs": [],
      "execution_count": null,
      "metadata": {
        "jupyter": {
          "source_hidden": false,
          "outputs_hidden": false
        },
        "nteract": {
          "transient": {
            "deleting": false
          }
        },
        "gather": {
          "logged": 1644000272466
        }
      }
    },
    {
      "cell_type": "code",
      "source": [
        "#Training the model  \r\n",
        "history=model.fit(train_datagen.flow(X_train, train_y, batch_size=batch_size),  \r\n",
        "          batch_size=batch_size,  \r\n",
        "          epochs=epochs,\r\n",
        "          verbose=1,  \r\n",
        "          callbacks=callbacks,\r\n",
        "          validation_data=(X_test, test_y),  \r\n",
        "          shuffle=True)  "
      ],
      "outputs": [],
      "execution_count": null,
      "metadata": {
        "jupyter": {
          "source_hidden": false,
          "outputs_hidden": false
        },
        "nteract": {
          "transient": {
            "deleting": false
          }
        },
        "gather": {
          "logged": 1644000975011
        }
      }
    },
    {
      "cell_type": "code",
      "source": [
        "#create confusion matrix\r\n",
        "y_true=np.argmax(test_y,axis=1)\r\n",
        "y_pred=model.predict(X_test)\r\n",
        "\r\n",
        "con_mat = tensorflow.math.confusion_matrix(labels=y_true, predictions=y_pred.argmax(axis=1)).numpy()\r\n",
        "\r\n",
        "con_mat_norm = np.around(con_mat.astype('float') / con_mat.sum(axis=1)[:, np.newaxis], decimals=2)\r\n",
        "\r\n",
        "con_mat_df = pd.DataFrame(con_mat_norm,\r\n",
        "                     index = classes_labels, \r\n",
        "                     columns = classes_labels)\r\n",
        "\r\n",
        "figure = plt.figure(figsize=(8, 8))\r\n",
        "sns.heatmap(con_mat_df, annot=True,cmap=plt.cm.Blues)\r\n",
        "plt.tight_layout()\r\n",
        "plt.ylabel('True label')\r\n",
        "plt.xlabel('Predicted label')\r\n",
        "plt.show()\r\n",
        "figure.savefig(modelname + \"confusion_matrix.png\")\r\n",
        "\r\n",
        "#plot model accuracy\r\n",
        "fig_acc = plt.figure(figsize=(10, 10))\r\n",
        "plt.plot(history.history['accuracy'])\r\n",
        "plt.plot(history.history['val_accuracy'])\r\n",
        "plt.title('model accuracy')\r\n",
        "plt.ylabel('accuracy')\r\n",
        "plt.xlabel('epoch')\r\n",
        "plt.legend(['train', 'test'], loc='upper left')\r\n",
        "plt.show()\r\n",
        "fig_acc.savefig(modelname + \"model_accuracy.png\")\r\n",
        "\r\n",
        "\r\n",
        "#plot model loss\r\n",
        "fig_acc = plt.figure(figsize=(10, 10))\r\n",
        "plt.plot(history.history['loss'])\r\n",
        "plt.plot(history.history['val_loss'])\r\n",
        "plt.title('model loss')\r\n",
        "plt.ylabel('loss')\r\n",
        "plt.xlabel('epoch')\r\n",
        "plt.legend(['train', 'test'], loc='upper left')\r\n",
        "plt.show()\r\n",
        "fig_acc.savefig(modelname + \"model_loss.png\")\r\n",
        "\r\n",
        "scores = model.evaluate(X_train, train_y, verbose=1, batch_size=batch_size)\r\n",
        "print('Model ' + revname + ' Accuracy: {}'.format(scores[1]))"
      ],
      "outputs": [],
      "execution_count": null,
      "metadata": {
        "jupyter": {
          "source_hidden": false,
          "outputs_hidden": false
        },
        "nteract": {
          "transient": {
            "deleting": false
          }
        },
        "gather": {
          "logged": 1644000986686
        }
      }
    },
    {
      "cell_type": "code",
      "source": [
        "f = open(\"./NEW MODELS/Accuracies.txt\", \"a\")\r\n",
        "f.write(\"\\n\" + revname + ' : {}'.format(scores[1]))\r\n",
        "f.close()"
      ],
      "outputs": [],
      "execution_count": null,
      "metadata": {
        "jupyter": {
          "source_hidden": false,
          "outputs_hidden": false
        },
        "nteract": {
          "transient": {
            "deleting": false
          }
        },
        "gather": {
          "logged": 1644000986954
        }
      }
    },
    {
      "cell_type": "code",
      "source": [
        "#Saving the  model to  use it later on  \r\n",
        "fer_json = model.to_json()  \r\n",
        "with open(modelname + revname + \".json\", \"w\") as json_file:  \r\n",
        "    json_file.write(fer_json)  \r\n",
        "model.save_weights(modelname + revname + \".h5\")\r\n"
      ],
      "outputs": [],
      "execution_count": null,
      "metadata": {
        "jupyter": {
          "source_hidden": false,
          "outputs_hidden": false
        },
        "nteract": {
          "transient": {
            "deleting": false
          }
        },
        "gather": {
          "logged": 1644000987195
        }
      }
    },
    {
      "cell_type": "code",
      "source": [
        "!jupyter nbconvert 'Model 6.ipynb' --to html --output 'NEW MODELS/Model 6/6R12/model.html'"
      ],
      "outputs": [],
      "execution_count": null,
      "metadata": {
        "jupyter": {
          "source_hidden": false,
          "outputs_hidden": false
        },
        "nteract": {
          "transient": {
            "deleting": false
          }
        }
      }
    }
  ],
  "metadata": {
    "kernelspec": {
      "name": "azureml_py38_pt_tf",
      "language": "python",
      "display_name": "Python 3.8 - Pytorch and Tensorflow"
    },
    "language_info": {
      "name": "python",
      "version": "3.8.1",
      "mimetype": "text/x-python",
      "codemirror_mode": {
        "name": "ipython",
        "version": 3
      },
      "pygments_lexer": "ipython3",
      "nbconvert_exporter": "python",
      "file_extension": ".py"
    },
    "kernel_info": {
      "name": "azureml_py38_pt_tf"
    },
    "microsoft": {
      "host": {
        "AzureML": {
          "notebookHasBeenCompleted": true
        }
      }
    },
    "nteract": {
      "version": "nteract-front-end@1.0.0"
    }
  },
  "nbformat": 4,
  "nbformat_minor": 2
}